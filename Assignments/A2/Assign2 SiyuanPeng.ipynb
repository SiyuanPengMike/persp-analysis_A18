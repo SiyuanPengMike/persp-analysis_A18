{
 "cells": [
  {
   "cell_type": "markdown",
   "metadata": {},
   "source": [
    "# Assignment 2 \n",
    "\n",
    "### MACS 30000, Dr. Evans\n",
    "\n",
    "### Siyuan Peng"
   ]
  },
  {
   "cell_type": "code",
   "execution_count": 1,
   "metadata": {},
   "outputs": [],
   "source": [
    "# Import packages\n",
    "import pandas as pd\n",
    "import numpy as np\n",
    "import statsmodels.api as sm\n",
    "\n",
    "# Import matplotlib.pyplot as plt\n",
    "import matplotlib.pyplot as plt\n",
    "plt.style.use('seaborn')\n",
    "\n",
    "#Turn off Notebook Package Warnings\n",
    "import warnings\n",
    "warnings.filterwarnings('ignore')"
   ]
  },
  {
   "cell_type": "markdown",
   "metadata": {},
   "source": [
    "### 1. Imputing age and gender"
   ]
  },
  {
   "cell_type": "markdown",
   "metadata": {},
   "source": [
    "#### (a) \n",
    "Considering that these two data bases share two variables, which are income and weight, we could use these two variables as explanatory variables to build model with age and gender using survey income database. To be specifc, that is:\n",
    "\n",
    "$age = \\alpha_0 + \\alpha_1 * weight + \\alpha_2 * tot\\_inc + \\epsilon$\n",
    "\n",
    "$female = \\beta_0 + \\beta_1  weight + \\beta_2 * tot\\_inc + \\epsilon$\n",
    "\n",
    "Then, we could use the result of $\\alpha$ and $\\beta$ to calculate the age and gender in best income database."
   ]
  },
  {
   "cell_type": "markdown",
   "metadata": {},
   "source": [
    "#### (b) \n",
    "First, I must import the data."
   ]
  },
  {
   "cell_type": "code",
   "execution_count": 2,
   "metadata": {},
   "outputs": [],
   "source": [
    "# I may use this code cell to read in my data and name the variables which have been defined in the 'Assign2.pdf'.\n",
    "best_income = pd.read_csv('BestIncome.txt', header = None)\n",
    "best_income.columns = ['lab_inc', 'cap_inc', 'hgt', 'wgt']\n",
    "\n",
    "survey_income = pd.read_csv('SurvIncome.txt', header = None)\n",
    "survey_income.columns = ['tot_inc', 'wgt', 'age', 'female']"
   ]
  },
  {
   "cell_type": "code",
   "execution_count": 3,
   "metadata": {},
   "outputs": [],
   "source": [
    "# I shall start with the age model, which should be a simple OLS regression model.\n",
    "Y1 = survey_income['age']\n",
    "survey_income['cons'] = 1\n",
    "X1 = survey_income[['wgt', 'tot_inc', 'cons']]\n",
    "ols = sm.OLS(Y1, X1,).fit()\n",
    "\n",
    "#Use the ols result to calculate the age of the BestIncome database.\n",
    "best_income['tot_inc'] = best_income['lab_inc'] + best_income['cap_inc']\n",
    "best_income['cons'] = 1\n",
    "best_income['age'] = ols.predict(best_income[['wgt', 'tot_inc', 'cons']])"
   ]
  },
  {
   "cell_type": "code",
   "execution_count": 4,
   "metadata": {},
   "outputs": [
    {
     "name": "stdout",
     "output_type": "stream",
     "text": [
      "Optimization terminated successfully.\n",
      "         Current function value: 0.036050\n",
      "         Iterations 11\n"
     ]
    }
   ],
   "source": [
    "# Secondly, I shall compute the gender model. Considering that gender is a 0\\1 variable, we need to use logit model to dealing with it.\n",
    "Y2 = survey_income['female']\n",
    "X2 = survey_income[['wgt', 'tot_inc', 'cons']]\n",
    "logit = sm.Logit(Y2,X2).fit()\n",
    "\n",
    "#Use the logit result to calculate the gender of the BestIncome database.\n",
    "best_income['female'] = logit.predict(best_income[['wgt', 'tot_inc', 'cons']])\n",
    "\n",
    "#Check the value of the gender variable.\n",
    "check = best_income['female'][:]\n",
    "check[check >= 0.5] = 1\n",
    "check[check < 0.5] = 0\n",
    "best_income['female'] = check"
   ]
  },
  {
   "cell_type": "markdown",
   "metadata": {},
   "source": [
    "#### (c)\n",
    "The report of the variables are listed below."
   ]
  },
  {
   "cell_type": "code",
   "execution_count": 5,
   "metadata": {},
   "outputs": [
    {
     "name": "stdout",
     "output_type": "stream",
     "text": [
      "mean        44.890828\n",
      "std          0.219150\n",
      "min         43.976495\n",
      "max         45.703819\n",
      "count    10000.000000\n",
      "Name: age, dtype: float64\n",
      "mean         0.454600\n",
      "std          0.497959\n",
      "min          0.000000\n",
      "max          1.000000\n",
      "count    10000.000000\n",
      "Name: female, dtype: float64\n"
     ]
    }
   ],
   "source": [
    "# Firstly, report the age.\n",
    "print(best_income['age'].describe()[['mean', 'std', 'min', 'max', 'count']])\n",
    "\n",
    "#Secondly, report the gender.\n",
    "print(best_income['female'].describe()[['mean', 'std', 'min', 'max', 'count']])"
   ]
  },
  {
   "cell_type": "markdown",
   "metadata": {},
   "source": [
    "#### (d)\n",
    "The correlation matrix is shown below."
   ]
  },
  {
   "cell_type": "code",
   "execution_count": 6,
   "metadata": {},
   "outputs": [
    {
     "data": {
      "text/html": [
       "<style  type=\"text/css\" >\n",
       "    #T_2208f312_d196_11e8_9209_80fa5b3bea42row0_col0 {\n",
       "            background-color:  #023858;\n",
       "        }    #T_2208f312_d196_11e8_9209_80fa5b3bea42row0_col1 {\n",
       "            background-color:  #f5eff6;\n",
       "        }    #T_2208f312_d196_11e8_9209_80fa5b3bea42row0_col2 {\n",
       "            background-color:  #eee8f3;\n",
       "        }    #T_2208f312_d196_11e8_9209_80fa5b3bea42row0_col3 {\n",
       "            background-color:  #8eb3d5;\n",
       "        }    #T_2208f312_d196_11e8_9209_80fa5b3bea42row0_col4 {\n",
       "            background-color:  #03476f;\n",
       "        }    #T_2208f312_d196_11e8_9209_80fa5b3bea42row0_col5 {\n",
       "            background-color:  #bcc7e1;\n",
       "        }    #T_2208f312_d196_11e8_9209_80fa5b3bea42row1_col0 {\n",
       "            background-color:  #e0dded;\n",
       "        }    #T_2208f312_d196_11e8_9209_80fa5b3bea42row1_col1 {\n",
       "            background-color:  #023858;\n",
       "        }    #T_2208f312_d196_11e8_9209_80fa5b3bea42row1_col2 {\n",
       "            background-color:  #ebe6f2;\n",
       "        }    #T_2208f312_d196_11e8_9209_80fa5b3bea42row1_col3 {\n",
       "            background-color:  #8eb3d5;\n",
       "        }    #T_2208f312_d196_11e8_9209_80fa5b3bea42row1_col4 {\n",
       "            background-color:  #97b7d7;\n",
       "        }    #T_2208f312_d196_11e8_9209_80fa5b3bea42row1_col5 {\n",
       "            background-color:  #9ebad9;\n",
       "        }    #T_2208f312_d196_11e8_9209_80fa5b3bea42row2_col0 {\n",
       "            background-color:  #e0deed;\n",
       "        }    #T_2208f312_d196_11e8_9209_80fa5b3bea42row2_col1 {\n",
       "            background-color:  #f3edf5;\n",
       "        }    #T_2208f312_d196_11e8_9209_80fa5b3bea42row2_col2 {\n",
       "            background-color:  #023858;\n",
       "        }    #T_2208f312_d196_11e8_9209_80fa5b3bea42row2_col3 {\n",
       "            background-color:  #65a3cb;\n",
       "        }    #T_2208f312_d196_11e8_9209_80fa5b3bea42row2_col4 {\n",
       "            background-color:  #dcdaeb;\n",
       "        }    #T_2208f312_d196_11e8_9209_80fa5b3bea42row2_col5 {\n",
       "            background-color:  #abbfdc;\n",
       "        }    #T_2208f312_d196_11e8_9209_80fa5b3bea42row3_col0 {\n",
       "            background-color:  #e0dded;\n",
       "        }    #T_2208f312_d196_11e8_9209_80fa5b3bea42row3_col1 {\n",
       "            background-color:  #f5eff6;\n",
       "        }    #T_2208f312_d196_11e8_9209_80fa5b3bea42row3_col2 {\n",
       "            background-color:  #cacee5;\n",
       "        }    #T_2208f312_d196_11e8_9209_80fa5b3bea42row3_col3 {\n",
       "            background-color:  #023858;\n",
       "        }    #T_2208f312_d196_11e8_9209_80fa5b3bea42row3_col4 {\n",
       "            background-color:  #fff7fb;\n",
       "        }    #T_2208f312_d196_11e8_9209_80fa5b3bea42row3_col5 {\n",
       "            background-color:  #fff7fb;\n",
       "        }    #T_2208f312_d196_11e8_9209_80fa5b3bea42row4_col0 {\n",
       "            background-color:  #034871;\n",
       "        }    #T_2208f312_d196_11e8_9209_80fa5b3bea42row4_col1 {\n",
       "            background-color:  #c6cce3;\n",
       "        }    #T_2208f312_d196_11e8_9209_80fa5b3bea42row4_col2 {\n",
       "            background-color:  #f4eef6;\n",
       "        }    #T_2208f312_d196_11e8_9209_80fa5b3bea42row4_col3 {\n",
       "            background-color:  #cccfe5;\n",
       "        }    #T_2208f312_d196_11e8_9209_80fa5b3bea42row4_col4 {\n",
       "            background-color:  #023858;\n",
       "        }    #T_2208f312_d196_11e8_9209_80fa5b3bea42row4_col5 {\n",
       "            background-color:  #8bb2d4;\n",
       "        }    #T_2208f312_d196_11e8_9209_80fa5b3bea42row5_col0 {\n",
       "            background-color:  #fff7fb;\n",
       "        }    #T_2208f312_d196_11e8_9209_80fa5b3bea42row5_col1 {\n",
       "            background-color:  #fff7fb;\n",
       "        }    #T_2208f312_d196_11e8_9209_80fa5b3bea42row5_col2 {\n",
       "            background-color:  #fff7fb;\n",
       "        }    #T_2208f312_d196_11e8_9209_80fa5b3bea42row5_col3 {\n",
       "            background-color:  #fff7fb;\n",
       "        }    #T_2208f312_d196_11e8_9209_80fa5b3bea42row5_col4 {\n",
       "            background-color:  #d1d2e6;\n",
       "        }    #T_2208f312_d196_11e8_9209_80fa5b3bea42row5_col5 {\n",
       "            background-color:  #023858;\n",
       "        }</style>  \n",
       "<table id=\"T_2208f312_d196_11e8_9209_80fa5b3bea42\" > \n",
       "<thead>    <tr> \n",
       "        <th class=\"blank level0\" ></th> \n",
       "        <th class=\"col_heading level0 col0\" >lab_inc</th> \n",
       "        <th class=\"col_heading level0 col1\" >cap_inc</th> \n",
       "        <th class=\"col_heading level0 col2\" >hgt</th> \n",
       "        <th class=\"col_heading level0 col3\" >wgt</th> \n",
       "        <th class=\"col_heading level0 col4\" >age</th> \n",
       "        <th class=\"col_heading level0 col5\" >female</th> \n",
       "    </tr></thead> \n",
       "<tbody>    <tr> \n",
       "        <th id=\"T_2208f312_d196_11e8_9209_80fa5b3bea42level0_row0\" class=\"row_heading level0 row0\" >lab_inc</th> \n",
       "        <td id=\"T_2208f312_d196_11e8_9209_80fa5b3bea42row0_col0\" class=\"data row0 col0\" >1</td> \n",
       "        <td id=\"T_2208f312_d196_11e8_9209_80fa5b3bea42row0_col1\" class=\"data row0 col1\" >0.0053253</td> \n",
       "        <td id=\"T_2208f312_d196_11e8_9209_80fa5b3bea42row0_col2\" class=\"data row0 col2\" >0.00278978</td> \n",
       "        <td id=\"T_2208f312_d196_11e8_9209_80fa5b3bea42row0_col3\" class=\"data row0 col3\" >0.00450691</td> \n",
       "        <td id=\"T_2208f312_d196_11e8_9209_80fa5b3bea42row0_col4\" class=\"data row0 col4\" >0.924053</td> \n",
       "        <td id=\"T_2208f312_d196_11e8_9209_80fa5b3bea42row0_col5\" class=\"data row0 col5\" >-0.215469</td> \n",
       "    </tr>    <tr> \n",
       "        <th id=\"T_2208f312_d196_11e8_9209_80fa5b3bea42level0_row1\" class=\"row_heading level0 row1\" >cap_inc</th> \n",
       "        <td id=\"T_2208f312_d196_11e8_9209_80fa5b3bea42row1_col0\" class=\"data row1 col0\" >0.0053253</td> \n",
       "        <td id=\"T_2208f312_d196_11e8_9209_80fa5b3bea42row1_col1\" class=\"data row1 col1\" >1</td> \n",
       "        <td id=\"T_2208f312_d196_11e8_9209_80fa5b3bea42row1_col2\" class=\"data row1 col2\" >0.0215716</td> \n",
       "        <td id=\"T_2208f312_d196_11e8_9209_80fa5b3bea42row1_col3\" class=\"data row1 col3\" >0.00629868</td> \n",
       "        <td id=\"T_2208f312_d196_11e8_9209_80fa5b3bea42row1_col4\" class=\"data row1 col4\" >0.234159</td> \n",
       "        <td id=\"T_2208f312_d196_11e8_9209_80fa5b3bea42row1_col5\" class=\"data row1 col5\" >-0.0625691</td> \n",
       "    </tr>    <tr> \n",
       "        <th id=\"T_2208f312_d196_11e8_9209_80fa5b3bea42level0_row2\" class=\"row_heading level0 row2\" >hgt</th> \n",
       "        <td id=\"T_2208f312_d196_11e8_9209_80fa5b3bea42row2_col0\" class=\"data row2 col0\" >0.00278978</td> \n",
       "        <td id=\"T_2208f312_d196_11e8_9209_80fa5b3bea42row2_col1\" class=\"data row2 col1\" >0.0215716</td> \n",
       "        <td id=\"T_2208f312_d196_11e8_9209_80fa5b3bea42row2_col2\" class=\"data row2 col2\" >1</td> \n",
       "        <td id=\"T_2208f312_d196_11e8_9209_80fa5b3bea42row2_col3\" class=\"data row2 col3\" >0.172103</td> \n",
       "        <td id=\"T_2208f312_d196_11e8_9209_80fa5b3bea42row2_col4\" class=\"data row2 col4\" >-0.0450828</td> \n",
       "        <td id=\"T_2208f312_d196_11e8_9209_80fa5b3bea42row2_col5\" class=\"data row2 col5\" >-0.127416</td> \n",
       "    </tr>    <tr> \n",
       "        <th id=\"T_2208f312_d196_11e8_9209_80fa5b3bea42level0_row3\" class=\"row_heading level0 row3\" >wgt</th> \n",
       "        <td id=\"T_2208f312_d196_11e8_9209_80fa5b3bea42row3_col0\" class=\"data row3 col0\" >0.00450691</td> \n",
       "        <td id=\"T_2208f312_d196_11e8_9209_80fa5b3bea42row3_col1\" class=\"data row3 col1\" >0.00629868</td> \n",
       "        <td id=\"T_2208f312_d196_11e8_9209_80fa5b3bea42row3_col2\" class=\"data row3 col2\" >0.172103</td> \n",
       "        <td id=\"T_2208f312_d196_11e8_9209_80fa5b3bea42row3_col3\" class=\"data row3 col3\" >1</td> \n",
       "        <td id=\"T_2208f312_d196_11e8_9209_80fa5b3bea42row3_col4\" class=\"data row3 col4\" >-0.300288</td> \n",
       "        <td id=\"T_2208f312_d196_11e8_9209_80fa5b3bea42row3_col5\" class=\"data row3 col5\" >-0.763821</td> \n",
       "    </tr>    <tr> \n",
       "        <th id=\"T_2208f312_d196_11e8_9209_80fa5b3bea42level0_row4\" class=\"row_heading level0 row4\" >age</th> \n",
       "        <td id=\"T_2208f312_d196_11e8_9209_80fa5b3bea42row4_col0\" class=\"data row4 col0\" >0.924053</td> \n",
       "        <td id=\"T_2208f312_d196_11e8_9209_80fa5b3bea42row4_col1\" class=\"data row4 col1\" >0.234159</td> \n",
       "        <td id=\"T_2208f312_d196_11e8_9209_80fa5b3bea42row4_col2\" class=\"data row4 col2\" >-0.0450828</td> \n",
       "        <td id=\"T_2208f312_d196_11e8_9209_80fa5b3bea42row4_col3\" class=\"data row4 col3\" >-0.300288</td> \n",
       "        <td id=\"T_2208f312_d196_11e8_9209_80fa5b3bea42row4_col4\" class=\"data row4 col4\" >1</td> \n",
       "        <td id=\"T_2208f312_d196_11e8_9209_80fa5b3bea42row4_col5\" class=\"data row4 col5\" >0.0200595</td> \n",
       "    </tr>    <tr> \n",
       "        <th id=\"T_2208f312_d196_11e8_9209_80fa5b3bea42level0_row5\" class=\"row_heading level0 row5\" >female</th> \n",
       "        <td id=\"T_2208f312_d196_11e8_9209_80fa5b3bea42row5_col0\" class=\"data row5 col0\" >-0.215469</td> \n",
       "        <td id=\"T_2208f312_d196_11e8_9209_80fa5b3bea42row5_col1\" class=\"data row5 col1\" >-0.0625691</td> \n",
       "        <td id=\"T_2208f312_d196_11e8_9209_80fa5b3bea42row5_col2\" class=\"data row5 col2\" >-0.127416</td> \n",
       "        <td id=\"T_2208f312_d196_11e8_9209_80fa5b3bea42row5_col3\" class=\"data row5 col3\" >-0.763821</td> \n",
       "        <td id=\"T_2208f312_d196_11e8_9209_80fa5b3bea42row5_col4\" class=\"data row5 col4\" >0.0200595</td> \n",
       "        <td id=\"T_2208f312_d196_11e8_9209_80fa5b3bea42row5_col5\" class=\"data row5 col5\" >1</td> \n",
       "    </tr></tbody> \n",
       "</table> "
      ],
      "text/plain": [
       "<pandas.io.formats.style.Styler at 0x278aeeeb710>"
      ]
     },
     "execution_count": 6,
     "metadata": {},
     "output_type": "execute_result"
    }
   ],
   "source": [
    "show_list = best_income[['lab_inc','cap_inc','hgt','wgt','age','female']]\n",
    "cor = show_list.corr()\n",
    "cor.style.background_gradient()"
   ]
  },
  {
   "cell_type": "markdown",
   "metadata": {},
   "source": [
    "### 2. Imputing age and gender"
   ]
  },
  {
   "cell_type": "markdown",
   "metadata": {},
   "source": [
    "#### (a) \n",
    "Just compute the raw data."
   ]
  },
  {
   "cell_type": "code",
   "execution_count": 7,
   "metadata": {},
   "outputs": [],
   "source": [
    "# I may use this code cell to read in my data and name the variables which have been defined in the 'Assign2.pdf'.\n",
    "income_intel = pd.read_csv('IncomeIntel.txt', header = None)\n",
    "income_intel.columns = ['grad_year', 'gre_qnt', 'salary_p4']"
   ]
  },
  {
   "cell_type": "code",
   "execution_count": 8,
   "metadata": {},
   "outputs": [
    {
     "name": "stdout",
     "output_type": "stream",
     "text": [
      "                            OLS Regression Results                            \n",
      "==============================================================================\n",
      "Dep. Variable:              salary_p4   R-squared:                       0.263\n",
      "Model:                            OLS   Adj. R-squared:                  0.262\n",
      "Method:                 Least Squares   F-statistic:                     356.3\n",
      "Date:                Tue, 16 Oct 2018   Prob (F-statistic):           3.43e-68\n",
      "Time:                        17:52:49   Log-Likelihood:                -10673.\n",
      "No. Observations:                1000   AIC:                         2.135e+04\n",
      "Df Residuals:                     998   BIC:                         2.136e+04\n",
      "Df Model:                           1                                         \n",
      "Covariance Type:            nonrobust                                         \n",
      "==============================================================================\n",
      "                 coef    std err          t      P>|t|      [0.025      0.975]\n",
      "------------------------------------------------------------------------------\n",
      "gre_qnt      -25.7632      1.365    -18.875      0.000     -28.442     -23.085\n",
      "cons        8.954e+04    878.764    101.895      0.000    8.78e+04    9.13e+04\n",
      "==============================================================================\n",
      "Omnibus:                        9.118   Durbin-Watson:                   1.424\n",
      "Prob(Omnibus):                  0.010   Jarque-Bera (JB):                9.100\n",
      "Skew:                           0.230   Prob(JB):                       0.0106\n",
      "Kurtosis:                       3.077   Cond. No.                     1.71e+03\n",
      "==============================================================================\n",
      "\n",
      "Warnings:\n",
      "[1] Standard Errors assume that the covariance matrix of the errors is correctly specified.\n",
      "[2] The condition number is large, 1.71e+03. This might indicate that there are\n",
      "strong multicollinearity or other numerical problems.\n"
     ]
    }
   ],
   "source": [
    "# Then, I shall simply compute the raw data use the OLS model as stated in the assignment.\n",
    "Y1 = income_intel['salary_p4']\n",
    "income_intel['cons'] = 1\n",
    "X1 = income_intel[['gre_qnt', 'cons']]\n",
    "ols = sm.OLS(Y1,X1).fit()\n",
    "print(ols.summary())"
   ]
  },
  {
   "cell_type": "markdown",
   "metadata": {},
   "source": [
    "As shown above, the coefficient of GRE quantitative score is -25.7632 and its standard error is 1.365.\n",
    "As for the coefficient of cons, it is 8.954 * 10^4 and its standard error is 878.764."
   ]
  },
  {
   "cell_type": "markdown",
   "metadata": {},
   "source": [
    "#### (b) \n",
    "Draw the scatterplot and find the problem."
   ]
  },
  {
   "cell_type": "code",
   "execution_count": 9,
   "metadata": {},
   "outputs": [
    {
     "data": {
      "image/png": "[encoded data removed]",
      "text/plain": [
       "<Figure size 432x288 with 1 Axes>"
      ]
     },
     "metadata": {
      "needs_background": "light"
     },
     "output_type": "display_data"
    }
   ],
   "source": [
    "# draw the scatterplot.\n",
    "income_intel.plot(x = 'grad_year', y = 'gre_qnt', kind = 'scatter')\n",
    "plt.show()"
   ]
  },
  {
   "cell_type": "markdown",
   "metadata": {},
   "source": [
    "Here is where I'll discuss any problems that jump out. I'll propose a solution here as well.\n",
    "\n",
    "The above scatterplot shows clearly that the GRE quatitative score changed dramatically after 2011. Considering that the scale of this score has changed in 2011, we could use the concordance table provided by the official ETS to transform the old score to the latest version to make sure our regression is consistent.\n",
    "\n",
    "The link of the concordance table is : https://www.ets.org/s/gre/pdf/concordance_information.pdf"
   ]
  },
  {
   "cell_type": "markdown",
   "metadata": {},
   "source": [
    "#### (c) \n",
    "Draw the scatterplot and find the problem."
   ]
  },
  {
   "cell_type": "code",
   "execution_count": 10,
   "metadata": {},
   "outputs": [
    {
     "data": {
      "image/png": "[encoded data removed]",
      "text/plain": [
       "<Figure size 432x288 with 1 Axes>"
      ]
     },
     "metadata": {
      "needs_background": "light"
     },
     "output_type": "display_data"
    }
   ],
   "source": [
    "# draw the scatterplot.\n",
    "income_intel.plot(x = 'grad_year', y = 'salary_p4', kind = 'scatter')\n",
    "plt.show()"
   ]
  },
  {
   "cell_type": "markdown",
   "metadata": {},
   "source": [
    "The scatterplot shows clearly that there is a increasing trend of salary acrossing years. Therefore, we need to detrend the salary firstly. \n",
    "The solution will be shown as follows:\n",
    "(1) Treat the first year of the data, which is 2001, equal to the base year.\n",
    "(2) Calculate the average growth rate in salary.\n",
    "(3) Divide each salary by the (1 + avg_growth_rate) ** (grad_year - 2001). \n",
    "All of the equations related to this method are provided by Professor Evans."
   ]
  },
  {
   "cell_type": "markdown",
   "metadata": {},
   "source": [
    "#### (d) \n",
    "Re-estimate."
   ]
  },
  {
   "cell_type": "code",
   "execution_count": 11,
   "metadata": {},
   "outputs": [
    {
     "name": "stdout",
     "output_type": "stream",
     "text": [
      "                            OLS Regression Results                            \n",
      "==============================================================================\n",
      "Dep. Variable:             det_salary   R-squared:                       0.000\n",
      "Model:                            OLS   Adj. R-squared:                 -0.001\n",
      "Method:                 Least Squares   F-statistic:                    0.4730\n",
      "Date:                Tue, 16 Oct 2018   Prob (F-statistic):              0.492\n",
      "Time:                        17:53:27   Log-Likelihood:                -10291.\n",
      "No. Observations:                1000   AIC:                         2.059e+04\n",
      "Df Residuals:                     998   BIC:                         2.060e+04\n",
      "Df Model:                           1                                         \n",
      "Covariance Type:            nonrobust                                         \n",
      "==============================================================================\n",
      "                 coef    std err          t      P>|t|      [0.025      0.975]\n",
      "------------------------------------------------------------------------------\n",
      "lat_score    -46.0587     66.967     -0.688      0.492    -177.471      85.354\n",
      "cons        6.865e+04   1.05e+04      6.532      0.000     4.8e+04    8.93e+04\n",
      "==============================================================================\n",
      "Omnibus:                        0.757   Durbin-Watson:                   2.025\n",
      "Prob(Omnibus):                  0.685   Jarque-Bera (JB):                0.667\n",
      "Skew:                           0.058   Prob(JB):                        0.717\n",
      "Kurtosis:                       3.050   Cond. No.                     7.31e+03\n",
      "==============================================================================\n",
      "\n",
      "Warnings:\n",
      "[1] Standard Errors assume that the covariance matrix of the errors is correctly specified.\n",
      "[2] The condition number is large, 7.31e+03. This might indicate that there are\n",
      "strong multicollinearity or other numerical problems.\n"
     ]
    }
   ],
   "source": [
    "# Use the concordance table to transform the old score to the latest version.\n",
    "def concordance(qnt_score):\n",
    "    old_version = [800, 790, 780, 770, 760, 750, 740, 730, 720, 710, 690, 680, 670, 650, 630, 620, 600, 580, 560, 540, 520, 490, 470, 450, 420, 390, 370, 340, 320, 290, 270, 250, 230, 210, 200]\n",
    "    lat_version = [166, 164, 163, 161, 160, 159, 158, 157, 156, 155, 154, 153, 152, 151, 150, 149, 148, 147, 146, 145, 144, 143, 142, 141, 140, 139, 138, 137, 136, 135, 134, 133, 132, 131, 130]\n",
    "    if qnt_score < 171:\n",
    "        return qnt_score\n",
    "    else:\n",
    "        for i,val in enumerate(lat_version):\n",
    "            if qnt_score <= old_version[i] and qnt_score > old_version[i+1]:\n",
    "                return val\n",
    "\n",
    "income_intel['lat_score'] = [[]] * len(income_intel['gre_qnt'])\n",
    "for i in range(len(income_intel['lat_score'])):\n",
    "    income_intel['lat_score'][i] = concordance(income_intel['gre_qnt'][i])\n",
    "\n",
    "# Calculate the detrend salary.\n",
    "avg_inc_by_year = income_intel['salary_p4'].groupby(income_intel['grad_year']).mean().values\n",
    "avg_growth_rate = ((avg_inc_by_year[1:] - avg_inc_by_year[:-1]) / avg_inc_by_year[:-1]).mean()\n",
    "income_intel['det_salary'] = [[]] * len(income_intel['salary_p4'])\n",
    "for i in range(2001, 2014):\n",
    "    income_intel['det_salary'][income_intel['grad_year'] == i] = income_intel['salary_p4']/(1 + avg_growth_rate) ** (i - 2001)\n",
    "\n",
    "# Calculate the new OLS model.\n",
    "Y2 = income_intel['det_salary']\n",
    "X2 = income_intel[['lat_score', 'cons']]\n",
    "ols = sm.OLS(Y2.astype(float),X2.astype(float)).fit()\n",
    "print(ols.summary())"
   ]
  },
  {
   "cell_type": "markdown",
   "metadata": {},
   "source": [
    "The above result shows that while the coefficient of the GRE quantitative score is still negative, it becomes insiginificant.\n",
    "\n",
    "In our common sense, person who has higher mathmatics score should has higher salary. However, the result of our original model conflicts this common sense. Therefore, when we modify our model by use the same scale of the GRE score and detrend salary, even though the coefficient is still negative, it becomes insiginificant, which means that there is no relationship between GRE score and salary. I think we could see this change as a improvement. At least the model doesn't conflict our common sense now.\n",
    "\n",
    "As for the reason for this relatively small R^2 and insignificant coefficient, I think it is mainly due to the fact that mathmatic score doesn't have a linear relationship with salary at all."
   ]
  },
  {
   "cell_type": "markdown",
   "metadata": {},
   "source": [
    "### 3. Assessment of Kossinets and Watts."
   ]
  },
  {
   "cell_type": "markdown",
   "metadata": {},
   "source": [
    "See attached PDF. "
   ]
  }
 ],
 "metadata": {
  "kernelspec": {
   "display_name": "Python 3",
   "language": "python",
   "name": "python3"
  },
  "language_info": {
   "codemirror_mode": {
    "name": "ipython",
    "version": 3
   },
   "file_extension": ".py",
   "mimetype": "text/x-python",
   "name": "python",
   "nbconvert_exporter": "python",
   "pygments_lexer": "ipython3",
   "version": "3.7.1rc1"
  }
 },
 "nbformat": 4,
 "nbformat_minor": 2
}
