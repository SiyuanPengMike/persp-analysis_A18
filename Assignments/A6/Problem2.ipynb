{
 "cells": [
  {
   "cell_type": "markdown",
   "metadata": {},
   "source": [
    "## 2.\n",
    "### (a) \n",
    "My user name is:\"mikepeng\" and my friend key is:1410648_pPJQPuI6ydb89E7MoSvnXPq90MhxQ3Za"
   ]
  },
  {
   "cell_type": "markdown",
   "metadata": {},
   "source": [
    "### (b)\n",
    "I have choosen the problem 1:\"Multiples of 3 and 5\". I used python to solve this problem and the code is listed as follows:"
   ]
  },
  {
   "cell_type": "code",
   "execution_count": 3,
   "metadata": {},
   "outputs": [
    {
     "data": {
      "text/plain": [
       "233168"
      ]
     },
     "execution_count": 3,
     "metadata": {},
     "output_type": "execute_result"
    }
   ],
   "source": [
    "rv = 0\n",
    "for i in range(1000):\n",
    "    if i % 3 == 0 or i % 5 == 0:\n",
    "        rv += i\n",
    "rv"
   ]
  },
  {
   "cell_type": "markdown",
   "metadata": {},
   "source": [
    "### (c)\n",
    "For me, the three awards that I would most aspire to achieving are \"High Five\",\"One In A Hundred\" and \"Big Game Hunter\". \n",
    "\"High Five\" means that I have solved the five most recent problems. By achieving this award, I could keep pace with times and learn most recent skills to solve problems.\n",
    "\"One In A Hundred\" means that I'm among the first hundred to solve a problem. By achieving this award, I have made my own effort to a cutting edge problem and I hope latter people could be inspired by my code in the thread part of that problem.\n",
    "\"Big Game Hunter\" means that I have solved 25 of the 50 hardest problems. By achieving this award, I have proved my ability of coding to some extent and I'll be proud of my progress."
   ]
  }
 ],
 "metadata": {
  "kernelspec": {
   "display_name": "Python 3",
   "language": "python",
   "name": "python3"
  },
  "language_info": {
   "codemirror_mode": {
    "name": "ipython",
    "version": 3
   },
   "file_extension": ".py",
   "mimetype": "text/x-python",
   "name": "python",
   "nbconvert_exporter": "python",
   "pygments_lexer": "ipython3",
   "version": "3.7.1rc1"
  }
 },
 "nbformat": 4,
 "nbformat_minor": 2
}
