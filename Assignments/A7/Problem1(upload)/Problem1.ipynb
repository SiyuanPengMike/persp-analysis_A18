{
 "cells": [
  {
   "cell_type": "markdown",
   "metadata": {},
   "source": [
    "## Problem 1.\n",
    "### Problem 1.1\n",
    "For this problem, I suppose that the range part of the code has a little problem. Considering that in python, the range function doesn't include the upper bound of the range, thus, in this smallest_factor function, it is better to use int(n^0.5)+1 rather than int(n^0.5) to make sure we have include all possible circumstances. To verify my suspicion, let's do following test:"
   ]
  },
  {
   "cell_type": "code",
   "execution_count": 7,
   "metadata": {},
   "outputs": [],
   "source": [
    "# introduce the function. Save this function as problem1.py\n",
    "def smallest_factor(n):\n",
    "    \"\"\"Return the smallest prime factor of the positive integer n.\"\"\"\n",
    "    if n == 1: return 1\n",
    "    for i in range(2, int(n**.5)):\n",
    "        if n % i == 0: return i\n",
    "    return n"
   ]
  },
  {
   "cell_type": "code",
   "execution_count": 11,
   "metadata": {},
   "outputs": [],
   "source": [
    "# Then, write the test for this function.Save this test as test_problem1.py\n",
    "import problem1\n",
    "def test_problem1():\n",
    "    assert problem1.smallest_factor(2) == 2, 'failed on 2'\n",
    "    assert problem1.smallest_factor(3) == 3, 'failed on 3'\n",
    "    assert problem1.smallest_factor(4) == 2, 'failed on 4'\n",
    "    assert problem1.smallest_factor(9) == 3, 'failed on 9'\n",
    "    assert problem1.smallest_factor(13) == 13, 'failed on 13'"
   ]
  },
  {
   "cell_type": "code",
   "execution_count": 15,
   "metadata": {},
   "outputs": [
    {
     "name": "stdout",
     "output_type": "stream",
     "text": [
      "============================= test session starts =============================\n",
      "platform win32 -- Python 3.7.1rc1, pytest-4.0.1, py-1.7.0, pluggy-0.8.0\n",
      "rootdir: F:\\芝加哥大学\\第一学年\\秋季学期\\课程\\Perspective\\Assignment 7, inifile:\n",
      "collected 1 item\n",
      "\n",
      "test_problem1.py F                                                       [100%]\n",
      "\n",
      "================================== FAILURES ===================================\n",
      "________________________________ test_problem1 ________________________________\n",
      "\n",
      "    def test_problem1():\n",
      "        assert problem1.smallest_factor(2) == 2, 'failed on 2'\n",
      "        assert problem1.smallest_factor(3) == 3, 'failed on 3'\n",
      ">       assert problem1.smallest_factor(4) == 2, 'failed on 4'\n",
      "E       AssertionError: failed on 4\n",
      "E       assert 4 == 2\n",
      "E        +  where 4 = <function smallest_factor at 0x00000156668D8400>(4)\n",
      "E        +    where <function smallest_factor at 0x00000156668D8400> = problem1.smallest_factor\n",
      "\n",
      "test_problem1.py:5: AssertionError\n",
      "========================== 1 failed in 0.05 seconds ===========================\n"
     ]
    }
   ],
   "source": [
    "! py.test"
   ]
  },
  {
   "cell_type": "markdown",
   "metadata": {},
   "source": [
    "From the above test, we could see that when we test n as 4, the upper bound of the range is the same as the lower bound. Then, there is an error with the range function. What's more, there is also be an error for n as 9, where it won't test 3 as the smallest factor. Therefore, this function needs some modification."
   ]
  },
  {
   "cell_type": "code",
   "execution_count": 16,
   "metadata": {},
   "outputs": [],
   "source": [
    "# The correct verision of this function.\n",
    "def smallest_factor(n):\n",
    "    \"\"\"Return the smallest prime factor of the positive integer n.\"\"\"\n",
    "    if n == 1: return 1\n",
    "    for i in range(2, int(n**.5)+1):\n",
    "        if n % i == 0: return i\n",
    "    return n"
   ]
  },
  {
   "cell_type": "code",
   "execution_count": 19,
   "metadata": {},
   "outputs": [
    {
     "name": "stdout",
     "output_type": "stream",
     "text": [
      "============================= test session starts =============================\n",
      "platform win32 -- Python 3.7.1rc1, pytest-4.0.1, py-1.7.0, pluggy-0.8.0\n",
      "rootdir: F:\\芝加哥大学\\第一学年\\秋季学期\\课程\\Perspective\\Assignment 7, inifile:\n",
      "plugins: cov-2.6.0\n",
      "collected 1 item\n",
      "\n",
      "test_problem1.py .                                                       [100%]\n",
      "\n",
      "========================== 1 passed in 0.02 seconds ===========================\n"
     ]
    }
   ],
   "source": [
    "! py.test"
   ]
  },
  {
   "cell_type": "markdown",
   "metadata": {},
   "source": [
    "We could see that it passed all the test in the test_problem1.py now."
   ]
  },
  {
   "cell_type": "markdown",
   "metadata": {},
   "source": [
    "### Problem 1.2\n",
    "To start with, we shall test the coverage of my former test."
   ]
  },
  {
   "cell_type": "code",
   "execution_count": 20,
   "metadata": {},
   "outputs": [
    {
     "name": "stdout",
     "output_type": "stream",
     "text": [
      "============================= test session starts =============================\n",
      "platform win32 -- Python 3.7.1rc1, pytest-4.0.1, py-1.7.0, pluggy-0.8.0\n",
      "rootdir: F:\\芝加哥大学\\第一学年\\秋季学期\\课程\\Perspective\\Assignment 7, inifile:\n",
      "plugins: cov-2.6.0\n",
      "collected 1 item\n",
      "\n",
      "test_problem1.py .                                                       [100%]\n",
      "\n",
      "--------- coverage: platform win32, python 3.7.1-candidate-1 ---------\n",
      "Name               Stmts   Miss  Cover\n",
      "--------------------------------------\n",
      "problem1.py            5      0   100%\n",
      "test_problem1.py       7      0   100%\n",
      "--------------------------------------\n",
      "TOTAL                 12      0   100%\n",
      "\n",
      "\n",
      "========================== 1 passed in 0.04 seconds ===========================\n"
     ]
    }
   ],
   "source": [
    "! py.test --cov"
   ]
  },
  {
   "cell_type": "markdown",
   "metadata": {},
   "source": [
    "Considering that it covers all codes of the smallest_factor function, it doesn't need supplement. We shall move to the test of the month_length function."
   ]
  },
  {
   "cell_type": "code",
   "execution_count": 21,
   "metadata": {},
   "outputs": [],
   "source": [
    "# introduce the function. Save this function as problem2.py\n",
    "def month_length(month, leap_year=False):\n",
    "    \"\"\"Return the number of days in the given month.\"\"\"\n",
    "    if month in {\"September\", \"April\", \"June\", \"November\"}:\n",
    "        return 30\n",
    "    elif month in {\"January\", \"March\", \"May\", \"July\",\"August\", \"October\", \"December\"}:\n",
    "        return 31\n",
    "    if month == \"February\":\n",
    "        if not leap_year:\n",
    "            return 28\n",
    "        else:\n",
    "            return 29\n",
    "    else:\n",
    "        return None"
   ]
  },
  {
   "cell_type": "code",
   "execution_count": 22,
   "metadata": {},
   "outputs": [],
   "source": [
    "# Then, write the test for this function.Save this test as test_problem2.py\n",
    "import problem2\n",
    "def test_problem2():\n",
    "    assert problem2.month_length(\"February\", leap_year = False) == 28, 'failed on February in common year'\n",
    "    assert problem2.month_length(\"February\", leap_year = True) == 29, 'failed on February in leap year'\n",
    "    assert problem2.month_length(\"March\", leap_year = False) == 31, 'failed on March in common year'\n",
    "    assert problem2.month_length(\"March\", leap_year = True) == 31, 'failed on March in leap year'\n",
    "    assert problem2.month_length(\"April\", leap_year = False) == 30, 'failed on April in common year'\n",
    "    assert problem2.month_length(\"April\", leap_year = True) == 30, 'failed on April in leap year'"
   ]
  },
  {
   "cell_type": "code",
   "execution_count": 23,
   "metadata": {},
   "outputs": [
    {
     "name": "stdout",
     "output_type": "stream",
     "text": [
      "============================= test session starts =============================\n",
      "platform win32 -- Python 3.7.1rc1, pytest-4.0.1, py-1.7.0, pluggy-0.8.0\n",
      "rootdir: F:\\芝加哥大学\\第一学年\\秋季学期\\课程\\Perspective\\Assignment 7, inifile:\n",
      "plugins: cov-2.6.0\n",
      "collected 2 items\n",
      "\n",
      "test_problem1.py .                                                       [ 50%]\n",
      "test_problem2.py .                                                       [100%]\n",
      "\n",
      "--------- coverage: platform win32, python 3.7.1-candidate-1 ---------\n",
      "Name               Stmts   Miss  Cover\n",
      "--------------------------------------\n",
      "problem1.py            5      0   100%\n",
      "problem2.py           10      1    90%\n",
      "test_problem1.py       7      0   100%\n",
      "test_problem2.py       8      0   100%\n",
      "--------------------------------------\n",
      "TOTAL                 30      1    97%\n",
      "\n",
      "\n",
      "========================== 2 passed in 0.07 seconds ===========================\n"
     ]
    }
   ],
   "source": [
    "!py.test --cov"
   ]
  },
  {
   "cell_type": "markdown",
   "metadata": {},
   "source": [
    "From the result, we could see that this function is correct."
   ]
  },
  {
   "cell_type": "markdown",
   "metadata": {},
   "source": [
    "### Problem 1.3"
   ]
  },
  {
   "cell_type": "code",
   "execution_count": 24,
   "metadata": {},
   "outputs": [],
   "source": [
    "# introduce the function. Save this function as problem3.py\n",
    "def operate(a, b, oper):\n",
    "    \"\"\"Apply an arithmetic operation to a and b.\"\"\"\n",
    "    if type(oper) is not str:\n",
    "        raise TypeError(\"oper must be a string\")\n",
    "    elif oper == '+':\n",
    "        return a + b\n",
    "    elif oper == '-':\n",
    "        return a - b\n",
    "    elif oper == '*':\n",
    "        return a * b\n",
    "    elif oper == '/':\n",
    "        if b == 0:\n",
    "            raise ZeroDivisionError(\"division by zero is undefined\")\n",
    "        return a / b\n",
    "    raise ValueError(\"oper must be one of '+', '/', '-', or '*'\")"
   ]
  },
  {
   "cell_type": "code",
   "execution_count": 25,
   "metadata": {},
   "outputs": [],
   "source": [
    "#Then, write the test for this function.Save this test as test_problem2.py\n",
    "import pytest\n",
    "import problem3\n",
    "def test_problem3():\n",
    "    assert problem3.operate(2,7,\"+\") == 9, 'failed on add function'\n",
    "    assert problem3.operate(2,7,\"-\") == -5, 'failed on subtract function'\n",
    "    assert problem3.operate(2,7,\"*\") == 14, 'failed on multiply function'\n",
    "    assert problem3.operate(4,2,\"/\") == 2, 'failed on division function'\n",
    "    pytest.raises(TypeError, problem3.operate, a=2, b=7, oper=2.7)\n",
    "    pytest.raises(ZeroDivisionError, problem3.operate, a=2, b=0, oper='/')\n",
    "    pytest.raises(ValueError, problem3.operate, a=2, b=7, oper=\"^\")"
   ]
  },
  {
   "cell_type": "code",
   "execution_count": 27,
   "metadata": {},
   "outputs": [
    {
     "name": "stdout",
     "output_type": "stream",
     "text": [
      "============================= test session starts =============================\n",
      "platform win32 -- Python 3.7.1rc1, pytest-4.0.1, py-1.7.0, pluggy-0.8.0\n",
      "rootdir: F:\\芝加哥大学\\第一学年\\秋季学期\\课程\\Perspective\\Assignment 7, inifile:\n",
      "plugins: cov-2.6.0\n",
      "collected 3 items\n",
      "\n",
      "test_problem1.py .                                                       [ 33%]\n",
      "test_problem2.py .                                                       [ 66%]\n",
      "test_problem3.py .                                                       [100%]\n",
      "\n",
      "--------- coverage: platform win32, python 3.7.1-candidate-1 ---------\n",
      "Name               Stmts   Miss  Cover\n",
      "--------------------------------------\n",
      "problem1.py            5      0   100%\n",
      "problem2.py           10      1    90%\n",
      "problem3.py           14      0   100%\n",
      "test_problem1.py       7      0   100%\n",
      "test_problem2.py       8      0   100%\n",
      "test_problem3.py      10      0   100%\n",
      "--------------------------------------\n",
      "TOTAL                 54      1    98%\n",
      "\n",
      "\n",
      "========================== 3 passed in 0.08 seconds ===========================\n"
     ]
    }
   ],
   "source": [
    "!py.test --cov"
   ]
  },
  {
   "cell_type": "code",
   "execution_count": 28,
   "metadata": {},
   "outputs": [
    {
     "name": "stdout",
     "output_type": "stream",
     "text": [
      "============================= test session starts =============================\n",
      "platform win32 -- Python 3.7.1rc1, pytest-4.0.1, py-1.7.0, pluggy-0.8.0\n",
      "rootdir: F:\\芝加哥大学\\第一学年\\秋季学期\\课程\\Perspective\\Assignment 7, inifile:\n",
      "plugins: cov-2.6.0\n",
      "collected 3 items\n",
      "\n",
      "test_problem1.py .                                                       [ 33%]\n",
      "test_problem2.py .                                                       [ 66%]\n",
      "test_problem3.py .                                                       [100%]\n",
      "\n",
      "--------- coverage: platform win32, python 3.7.1-candidate-1 ---------\n",
      "Coverage HTML written to dir htmlcov\n",
      "\n",
      "\n",
      "========================== 3 passed in 0.11 seconds ===========================\n"
     ]
    }
   ],
   "source": [
    "!py.test --cov-report html --cov"
   ]
  },
  {
   "cell_type": "markdown",
   "metadata": {},
   "source": [
    "From the result, we could see that this function is correct and the test covers all codes."
   ]
  }
 ],
 "metadata": {
  "kernelspec": {
   "display_name": "Python 3",
   "language": "python",
   "name": "python3"
  },
  "language_info": {
   "codemirror_mode": {
    "name": "ipython",
    "version": 3
   },
   "file_extension": ".py",
   "mimetype": "text/x-python",
   "name": "python",
   "nbconvert_exporter": "python",
   "pygments_lexer": "ipython3",
   "version": "3.7.1rc1"
  }
 },
 "nbformat": 4,
 "nbformat_minor": 2
}
