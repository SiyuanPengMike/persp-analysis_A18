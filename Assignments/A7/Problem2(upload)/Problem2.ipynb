{
 "cells": [
  {
   "cell_type": "markdown",
   "metadata": {},
   "source": [
    "## Problem 2\n",
    "(b) My code of this function shows as follows:"
   ]
  },
  {
   "cell_type": "code",
   "execution_count": 9,
   "metadata": {},
   "outputs": [],
   "source": [
    "import numpy as np\n",
    "\n",
    "def get_r(K, L, alpha, Z, delta):\n",
    "    '''This function generates the interest rate or vector of interest rates'''\n",
    "    ''' Firstly, check the type of inputs '''\n",
    "    if type(K) != int and type(K) != float and type(K) != np.ndarray:\n",
    "        raise TypeError('K should be a scalar or vector.')\n",
    "    if type(L) != int and type(L) != float and type(L) != np.ndarray:\n",
    "        raise TypeError('L should be a scalar or vector.')\n",
    "    if type(alpha) != float or type(delta) != float:\n",
    "        raise TypeError('Both alpha and delta should be float.')\n",
    "    if type(Z) != int and type(Z) != float:\n",
    "        raise TypeError('Z should be a integer or float.')\n",
    "\n",
    "    '''Then, check the value of inputs'''\n",
    "    if (type(K) != np.ndarray and K <= 0) or (type(K) == np.ndarray and not np.all(K > 0)):\n",
    "        raise ValueError(\"K should be larger than zero\")\n",
    "    if (type(L) != np.ndarray and L <= 0) or (type(L) == np.ndarray and not np.all(L > 0)):\n",
    "        raise ValueError(\"L should be larger than zero\")\n",
    "    if not 0 < alpha < 1:\n",
    "        raise ValueError(\"Alpha should in the interval of (0,1).\")\n",
    "    if not Z > 0:\n",
    "        raise ValueError(\"Z should be larger than zero\")\n",
    "    if not 0 <= delta < 1:\n",
    "        raise ValueError(\"Delta should in the interval of (0,1).\")\n",
    "    \n",
    "    '''Finally, make sure the length of K and L are the same'''\n",
    "    if type(K) == np.ndarray and type(L) == np.ndarray:\n",
    "        assert len(K) == len(L)\n",
    "\n",
    "    ''' If the input meet all restrictions, then do the following calculation.'''\n",
    "    r = alpha * Z * (L / K) ** (1 - alpha) - delta\n",
    "    return r"
   ]
  },
  {
   "cell_type": "code",
   "execution_count": 10,
   "metadata": {},
   "outputs": [
    {
     "name": "stdout",
     "output_type": "stream",
     "text": [
      "============================= test session starts =============================\n",
      "platform win32 -- Python 3.7.1rc1, pytest-4.0.1, py-1.7.0, pluggy-0.8.0\n",
      "rootdir: F:\\芝加哥大学\\第一学年\\秋季学期\\课程\\Perspective\\Assignment 7\\Problem 2, inifile:\n",
      "plugins: cov-2.6.0\n",
      "collected 244 items\n",
      "\n",
      "test_r.py .............................................................. [ 25%]\n",
      "........................................................................ [ 54%]\n",
      "........................................................................ [ 84%]\n",
      "......................................                                   [100%]\n",
      "\n",
      "--------- coverage: platform win32, python 3.7.1-candidate-1 ---------\n",
      "Name        Stmts   Miss  Cover\n",
      "-------------------------------\n",
      "get_r.py       24      9    62%\n",
      "test_r.py      29      0   100%\n",
      "-------------------------------\n",
      "TOTAL          53      9    83%\n",
      "\n",
      "\n",
      "========================= 244 passed in 0.93 seconds ==========================\n"
     ]
    }
   ],
   "source": [
    "!py.test --cov"
   ]
  },
  {
   "cell_type": "markdown",
   "metadata": {},
   "source": [
    "(c) From the above result, we could see that some of codes in get_r.py is missing in the test. We may need a more comprehensive test to cover all cases for this function. However, until now, this function performs well."
   ]
  }
 ],
 "metadata": {
  "kernelspec": {
   "display_name": "Python 3",
   "language": "python",
   "name": "python3"
  },
  "language_info": {
   "codemirror_mode": {
    "name": "ipython",
    "version": 3
   },
   "file_extension": ".py",
   "mimetype": "text/x-python",
   "name": "python",
   "nbconvert_exporter": "python",
   "pygments_lexer": "ipython3",
   "version": "3.7.1rc1"
  }
 },
 "nbformat": 4,
 "nbformat_minor": 2
}
